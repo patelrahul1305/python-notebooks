{
 "cells": [
  {
   "cell_type": "markdown",
   "metadata": {},
   "source": [
    "### Polymorphism\n",
    "\n",
    "- Polymorphism is taken from the Greek words **Poly (many)** and **morphism (forms)**.\n",
    "- Polymorphism means that different types respond to the same function.\n",
    "- Polymorphism can be carried out through inheritance, with derived classes making use of base class methods or overriding them."
   ]
  },
  {
   "cell_type": "code",
   "execution_count": 1,
   "metadata": {},
   "outputs": [
    {
     "name": "stdout",
     "output_type": "stream",
     "text": [
      "12\n",
      "3\n",
      "8\n",
      "35\n"
     ]
    }
   ],
   "source": [
    "# Polymorphic Function Example\n",
    "\n",
    "text = 'Hello Python'\n",
    "fruits = ['apple', 'orange', 'mango']\n",
    "\n",
    "print(len(text))\n",
    "print(len(fruits))\n",
    "\n",
    "print(3 + 5)\n",
    "print('3'+'5')"
   ]
  },
  {
   "cell_type": "code",
   "execution_count": 2,
   "metadata": {},
   "outputs": [],
   "source": [
    "# Abstract Class\n",
    "class Shape:\n",
    "    \n",
    "    def area(self):\n",
    "        raise NotImplementedError\n",
    "\n",
    "# Child Class/Derived Class/Subclass\n",
    "class Square(Shape):\n",
    "    \n",
    "    def __init__(self, side):\n",
    "        self.side = side\n",
    "    \n",
    "    def area(self):\n",
    "        a = self.side ** 2\n",
    "        return f'Area (Square): {a}'\n",
    "    \n",
    "# Child Class/Derived Class/Subclass\n",
    "class Rectangle(Shape):\n",
    "    \n",
    "    def __init__(self, length, width):\n",
    "        self.length = length\n",
    "        self.width = width\n",
    "    \n",
    "    def area(self):\n",
    "        a = self.length * self.width\n",
    "        return f'Area (Rectangle): {a}'\n",
    "    \n",
    "def area(obj):\n",
    "    return obj.area()"
   ]
  },
  {
   "cell_type": "code",
   "execution_count": 3,
   "metadata": {},
   "outputs": [],
   "source": [
    "rect = Rectangle(10, 15)"
   ]
  },
  {
   "cell_type": "code",
   "execution_count": 4,
   "metadata": {},
   "outputs": [
    {
     "data": {
      "text/plain": [
       "'Area (Rectangle): 150'"
      ]
     },
     "execution_count": 4,
     "metadata": {},
     "output_type": "execute_result"
    }
   ],
   "source": [
    "rect.area()"
   ]
  },
  {
   "cell_type": "code",
   "execution_count": 5,
   "metadata": {},
   "outputs": [],
   "source": [
    "squ = Square(10)"
   ]
  },
  {
   "cell_type": "code",
   "execution_count": 6,
   "metadata": {},
   "outputs": [
    {
     "data": {
      "text/plain": [
       "'Area (Square): 100'"
      ]
     },
     "execution_count": 6,
     "metadata": {},
     "output_type": "execute_result"
    }
   ],
   "source": [
    "squ.area()"
   ]
  },
  {
   "cell_type": "code",
   "execution_count": 7,
   "metadata": {},
   "outputs": [
    {
     "data": {
      "text/plain": [
       "'Area (Rectangle): 150'"
      ]
     },
     "execution_count": 7,
     "metadata": {},
     "output_type": "execute_result"
    }
   ],
   "source": [
    "area(rect)"
   ]
  },
  {
   "cell_type": "code",
   "execution_count": 8,
   "metadata": {},
   "outputs": [
    {
     "data": {
      "text/plain": [
       "'Area (Square): 100'"
      ]
     },
     "execution_count": 8,
     "metadata": {},
     "output_type": "execute_result"
    }
   ],
   "source": [
    "area(squ)"
   ]
  },
  {
   "cell_type": "code",
   "execution_count": 9,
   "metadata": {},
   "outputs": [
    {
     "name": "stdout",
     "output_type": "stream",
     "text": [
      "Area (Rectangle): 150\n",
      "Area (Square): 100\n"
     ]
    }
   ],
   "source": [
    "for shape in (rect, squ):\n",
    "    print(shape.area())"
   ]
  },
  {
   "cell_type": "code",
   "execution_count": 10,
   "metadata": {},
   "outputs": [],
   "source": [
    "class Person:\n",
    "    \n",
    "    def __init__(self, name):\n",
    "        self.name = name\n",
    "\n",
    "    def intro(self):\n",
    "        raise NotImplementedError\n",
    "        \n",
    "class Teacher(Person):\n",
    "    \n",
    "    def intro(self):\n",
    "        print(f'Hello! My name is {self.name} and I am a Teacher.')\n",
    "        \n",
    "class Developer(Person):\n",
    "    \n",
    "    def intro(self):\n",
    "        print(f'Hello! My name is {self.name} and I am a Python Developer.')"
   ]
  },
  {
   "cell_type": "code",
   "execution_count": 11,
   "metadata": {},
   "outputs": [],
   "source": [
    "teacher_1 = Teacher('Niraj')"
   ]
  },
  {
   "cell_type": "code",
   "execution_count": 12,
   "metadata": {},
   "outputs": [
    {
     "name": "stdout",
     "output_type": "stream",
     "text": [
      "Hello! My name is Niraj and I am a Teacher.\n"
     ]
    }
   ],
   "source": [
    "teacher_1.intro()"
   ]
  },
  {
   "cell_type": "code",
   "execution_count": 13,
   "metadata": {},
   "outputs": [],
   "source": [
    "developer_1 = Developer('Rahul')"
   ]
  },
  {
   "cell_type": "code",
   "execution_count": 14,
   "metadata": {},
   "outputs": [
    {
     "name": "stdout",
     "output_type": "stream",
     "text": [
      "Hello! My name is Rahul and I am a Python Developer.\n"
     ]
    }
   ],
   "source": [
    "developer_1.intro()"
   ]
  },
  {
   "cell_type": "code",
   "execution_count": 15,
   "metadata": {},
   "outputs": [],
   "source": [
    "def intro(obj):\n",
    "    return obj.intro()"
   ]
  },
  {
   "cell_type": "code",
   "execution_count": 16,
   "metadata": {},
   "outputs": [
    {
     "name": "stdout",
     "output_type": "stream",
     "text": [
      "Hello! My name is Niraj and I am a Teacher.\n"
     ]
    }
   ],
   "source": [
    "intro(teacher_1)"
   ]
  },
  {
   "cell_type": "code",
   "execution_count": 17,
   "metadata": {},
   "outputs": [
    {
     "name": "stdout",
     "output_type": "stream",
     "text": [
      "Hello! My name is Rahul and I am a Python Developer.\n"
     ]
    }
   ],
   "source": [
    "intro(developer_1)"
   ]
  },
  {
   "cell_type": "code",
   "execution_count": null,
   "metadata": {},
   "outputs": [],
   "source": []
  }
 ],
 "metadata": {
  "kernelspec": {
   "display_name": "Python 3",
   "language": "python",
   "name": "python3"
  },
  "language_info": {
   "codemirror_mode": {
    "name": "ipython",
    "version": 3
   },
   "file_extension": ".py",
   "mimetype": "text/x-python",
   "name": "python",
   "nbconvert_exporter": "python",
   "pygments_lexer": "ipython3",
   "version": "3.7.6"
  }
 },
 "nbformat": 4,
 "nbformat_minor": 4
}
