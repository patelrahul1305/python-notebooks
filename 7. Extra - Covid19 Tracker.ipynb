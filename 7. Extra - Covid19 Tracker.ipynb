{
 "cells": [
  {
   "cell_type": "code",
   "execution_count": 1,
   "metadata": {},
   "outputs": [
    {
     "name": "stdout",
     "output_type": "stream",
     "text": [
      "Enter state name to know the number of cases of novel coronavirus: Delhi\n",
      "\n",
      "Cases of novel coronavirus in Delhi\n",
      "\n",
      "Confirmed: 903\n",
      "Active: 862\n",
      "Recovered: 27\n",
      "Deceased: 14\n"
     ]
    }
   ],
   "source": [
    "import requests\n",
    "import json\n",
    "\n",
    "state = input(\"Enter state name to know the number of cases of novel coronavirus: \")\n",
    "\n",
    "api = \"https://api.covid19india.org/data.json\"\n",
    "response = requests.get(api)\n",
    "\n",
    "data = json.loads(response.text)\n",
    "\n",
    "statewise_data = data[\"statewise\"]\n",
    "\n",
    "for state_data in statewise_data:\n",
    "    if state_data[\"state\"].lower() == state.lower():\n",
    "        print(f'\\nCases of novel coronavirus in {state_data[\"state\"]}\\n')\n",
    "        print(f'Confirmed: {state_data[\"confirmed\"]}')\n",
    "        print(f'Active: {state_data[\"active\"]}')\n",
    "        print(f'Recovered: {state_data[\"recovered\"]}')\n",
    "        print(f'Deceased: {state_data[\"deaths\"]}')\n",
    "        break"
   ]
  },
  {
   "cell_type": "code",
   "execution_count": 2,
   "metadata": {},
   "outputs": [
    {
     "name": "stdout",
     "output_type": "stream",
     "text": [
      "Enter state name to know the number of cases of novel coronavirus: Maharashtra\n",
      "\n",
      "Cases of novel coronavirus in Maharashtra\n",
      "\n",
      "Confirmed: 1574\n",
      "Active: 1276\n",
      "Recovered: 188\n",
      "Deceased: 110\n"
     ]
    }
   ],
   "source": [
    "import requests\n",
    "import json\n",
    "\n",
    "state = input(\"Enter state name to know the number of cases of novel coronavirus: \")\n",
    "\n",
    "api = \"https://api.covid19india.org/data.json\"\n",
    "response = requests.get(api)\n",
    "\n",
    "data = json.loads(response.text)\n",
    "\n",
    "statewise_data = data[\"statewise\"]\n",
    "\n",
    "states = []\n",
    "\n",
    "for state_data in statewise_data:\n",
    "    states.append(state_data[\"state\"].lower())\n",
    "        \n",
    "if state.lower() in states:\n",
    "    for state_data in statewise_data:\n",
    "        if state_data[\"state\"].lower() == state.lower():\n",
    "            print(f'\\nCases of novel coronavirus in {state_data[\"state\"]}\\n')\n",
    "            print(f'Confirmed: {state_data[\"confirmed\"]}')\n",
    "            print(f'Active: {state_data[\"active\"]}')\n",
    "            print(f'Recovered: {state_data[\"recovered\"]}')\n",
    "            print(f'Deceased: {state_data[\"deaths\"]}')\n",
    "            break\n",
    "else:\n",
    "    print(f'Sorry, we couldn\\'t find the number of cases of novel coronavirus in {state}')"
   ]
  },
  {
   "cell_type": "code",
   "execution_count": null,
   "metadata": {},
   "outputs": [],
   "source": []
  }
 ],
 "metadata": {
  "kernelspec": {
   "display_name": "Python 3",
   "language": "python",
   "name": "python3"
  },
  "language_info": {
   "codemirror_mode": {
    "name": "ipython",
    "version": 3
   },
   "file_extension": ".py",
   "mimetype": "text/x-python",
   "name": "python",
   "nbconvert_exporter": "python",
   "pygments_lexer": "ipython3",
   "version": "3.7.6"
  }
 },
 "nbformat": 4,
 "nbformat_minor": 4
}
